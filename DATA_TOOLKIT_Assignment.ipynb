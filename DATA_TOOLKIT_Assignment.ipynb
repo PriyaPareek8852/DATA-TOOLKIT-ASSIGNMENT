{
  "nbformat": 4,
  "nbformat_minor": 0,
  "metadata": {
    "colab": {
      "provenance": []
    },
    "kernelspec": {
      "name": "python3",
      "display_name": "Python 3"
    },
    "language_info": {
      "name": "python"
    }
  },
  "cells": [
    {
      "cell_type": "markdown",
      "source": [
        "Q.1. What is NumPy, and why is it widely used in Python?"
      ],
      "metadata": {
        "id": "7PfDWwaZCYv4"
      }
    },
    {
      "cell_type": "markdown",
      "source": [
        "Ans.NumPy, short for Numerical Python, is a fundamental library for scientific computing in Python. It provides support for large, multi-dimensional arrays and matrices, along with a collection of high-level mathematical functions to operate on these arrays.\n",
        "\n",
        "**Key Features of NumPy:-**\n",
        "\n",
        "1. N-dimensional Array Object\n",
        "\n",
        "2. Vectorized Operations\n",
        "\n",
        "3. Broadcasting\n",
        "\n",
        "4. Mathematical Functions\n",
        "\n",
        " **Why NumPy is Widely Used:-** NumPy's widespread adoption in Python stems from several key advantages.\n",
        "\n",
        "**Performance:** As mentioned, NumPy operations are implemented in C, making them significantly faster than equivalent Python code, especially for large datasets. This is crucial for data science, machine learning, and scientific simulations where performance is paramount.\n",
        "\n",
        "**Ease of Use:** While offering powerful capabilities, NumPy's syntax is relatively intuitive for those familiar with mathematical notation. Its ability to perform operations on entire arrays simplifies complex calculations.\n",
        "\n",
        "**Foundation for Other Libraries**: NumPy serves as the backbone for many other scientific and data analysis libraries in the Python ecosystem. Libraries like Pandas, SciPy, Matplotlib, Scikit-learn, and TensorFlow all rely heavily on NumPy arrays for data representation and computation. Without NumPy, these libraries wouldn't be as efficient or as powerful.\n",
        "\n",
        "**Memory Efficiency:** NumPy arrays are more memory-efficient than Python lists, especially when dealing with large amounts of numerical data. This is because NumPy arrays store data of a single type contiguously in memory."
      ],
      "metadata": {
        "id": "W85LNe1CEpcq"
      }
    },
    {
      "cell_type": "markdown",
      "source": [
        "Q.2. How does broadcasting work in NumPy?"
      ],
      "metadata": {
        "id": "E4SAQsz_F7Tr"
      }
    },
    {
      "cell_type": "markdown",
      "source": [
        "Ans. Broadcasting in NumPy is a powerful mechanism that allows operations on arrays with different shapes without explicitly reshaping them. It's a way for NumPy to interpret arrays of different dimensions as if they had compatible shapes for element-wise operations. This saves memory and time by avoiding unnecessary data duplication.\n",
        "\n",
        "**How Broadcasting Works:-**  NumPy follows a set of rules to determine if arrays are broadcastable and how to align them:\n",
        "\n",
        "1. Dimension Comparison: NumPy compares the shapes of the arrays starting from the trailing (rightmost) dimensions and moves towards the leading dimensions.\n",
        "\n",
        "2. Compatibility: Two dimensions are considered compatible if:\n",
        "\n",
        "> They are equal in size.\n",
        "\n",
        "> One of them has a size of 1.\n",
        "\n",
        "3. Stretching: If a dimension has a size of 1 in one array but a larger size in the other, NumPy effectively \"stretches\" or \"replicates\" the dimension with size 1 to match the larger dimension. This stretching is conceptual; no actual data copies are made, making it efficient.\n",
        "\n",
        "4. Rank Adjustment: If the arrays have different numbers of dimensions (ranks), NumPy implicitly pads the shape of the lower-rank array with ones on its leading (left) side until both arrays have the same number of dimensions."
      ],
      "metadata": {
        "id": "2Z4Ecaa3GAC9"
      }
    },
    {
      "cell_type": "markdown",
      "source": [
        "Q.3. What is a Pandas DataFrame?"
      ],
      "metadata": {
        "id": "FAc0eXuwHKUV"
      }
    },
    {
      "cell_type": "markdown",
      "source": [
        "Ans. A Pandas DataFrame is a two-dimensional, mutable data structure with labeled axes (rows and columns) used for storing and manipulating tabular data. Think of it as a spreadsheet or a table in a relational database, but with powerful tools for data analysis.\n",
        "\n",
        "It is one of the most widely used data structures in data science and is a core component of the Pandas library, which is built on top of NumPy."
      ],
      "metadata": {
        "id": "cazMnO6HHPH3"
      }
    },
    {
      "cell_type": "markdown",
      "source": [
        "Q.4.  Explain the use of the groupby() method in Pandas."
      ],
      "metadata": {
        "id": "mtED0bV5qb2N"
      }
    },
    {
      "cell_type": "markdown",
      "source": [
        "The groupby() method in Pandas is used to split a DataFrame into groups based on some criterion. It is a powerful and commonly used function for data aggregation and analysis, following a \"split-apply-combine\" strategy.\n",
        "\n",
        "**Common Uses:-**\n",
        "\n",
        "**Aggregation:** This is the most frequent use of groupby(). You can calculate summary statistics for each group, such as the total sales per product category, the average salary per department, or the number of orders per customer.\n",
        "\n",
        "**Transformation:** You can apply a function to a group and return a result with the same shape as the group. This is useful for tasks like standardizing values within each group or filling missing data based on group-specific averages.\n",
        "\n",
        "**Filtration:** You can use groupby() to filter out entire groups based on a certain condition. For instance, you might want to keep only the groups that have more than a certain number of entries."
      ],
      "metadata": {
        "id": "wYkfeq7Sqk38"
      }
    },
    {
      "cell_type": "markdown",
      "source": [
        "Q.5. Why is Seaborn preferred for statistical visualizations?"
      ],
      "metadata": {
        "id": "BUBa5gJVrORk"
      }
    },
    {
      "cell_type": "markdown",
      "source": [
        "Ans. Seaborn is a Python library for creating statistical visualizations, and it's preferred for several reasons, especially over its foundational library, Matplotlib. While Matplotlib is powerful for creating basic plots and offers fine-grained control, Seaborn is a high-level library that simplifies the process of creating more complex and aesthetically pleasing statistical graphics with less code."
      ],
      "metadata": {
        "id": "LFU8laVqrVdF"
      }
    },
    {
      "cell_type": "markdown",
      "source": [
        "Q.6. What are the differences between NumPy arrays and Python lists?"
      ],
      "metadata": {
        "id": "y7hC4yY9rjNt"
      }
    },
    {
      "cell_type": "markdown",
      "source": [
        "Ans.NumPy arrays and Python lists are both used to store collections of data, but they differ significantly in their performance, functionality, and storage efficiency. The primary distinction is that NumPy arrays are designed for high-performance numerical operations, while Python lists are more general-purpose and flexible.\n",
        "\n",
        "**Differences between NumPy arrays and Python lists:-**\n",
        "\n",
        "1. Data Type Homogeneity: A NumPy array is homogeneous, meaning all of its elements must be of the same data type (e.g., all integers or all floats). This strict type enforcement allows NumPy to perform operations on the entire array much more efficiently. . In contrast, a Python list is heterogeneous and can store elements of different data types (e.g., integers, strings, and other objects) within the same list.\n",
        "\n",
        "2. Performance: NumPy arrays are significantly faster for numerical and mathematical operations. This is due to a few factors: they are implemented in C, they are stored contiguously in memory, and they don't have the overhead of storing type information for each element like Python lists do. For large datasets, a NumPy array can outperform a Python list by a factor of 10 to 100.\n",
        "\n",
        "3. Memory Efficiency: NumPy arrays are more memory-efficient than Python lists. Because all elements are of the same type and size, NumPy can store them compactly. A Python list, however, stores pointers to the location of each object, adding a layer of overhead that consumes more memory, especially for large lists of numbers.\n",
        "\n",
        "4. Functionality and Operations: NumPy provides a vast library of optimized functions for numerical and scientific computing. You can perform element-wise operations (e.g., array1 + array2), broadcasting, and linear algebra operations directly on an entire array without needing to loop through each element. Python lists lack these built-in functionalities and require explicit loops or list comprehensions, which are slower.\n",
        "\n",
        "5. Size Mutability: A Python list is mutable, and you can easily add or remove elements after creation. A NumPy array has a fixed size once created; if you need a different size, you must create a new array."
      ],
      "metadata": {
        "id": "GdNSqVwksvST"
      }
    },
    {
      "cell_type": "markdown",
      "source": [
        "Q.7. What is a heatmap, and when should it be used?"
      ],
      "metadata": {
        "id": "Lj4z3vJstWLt"
      }
    },
    {
      "cell_type": "markdown",
      "source": [
        "Ans. A heatmap is a data visualization technique that represents the magnitude of a phenomenon as color in two dimensions. It uses a color-coded system to show where values are high (often \"hot\" colors like red or orange) and where they are low (\"cool\" colors like blue or green). This makes it easy to spot patterns, trends, and outliers at a glance.\n",
        "\n",
        "**When to Use a Heatmap:-** Heatmaps are most effective for visualizing data that can be organized into a two-dimensional grid or matrix. You should use a heatmap when:\n",
        "\n",
        "1. You need to identify patterns in large datasets: When you have a large matrix of numerical data, a heatmap can quickly reveal correlations, clusters, or anomalies that would be difficult to spot by just looking at the raw numbers. For example, a heatmap of a correlation matrix for multiple financial assets can quickly show which pairs of assets are highly correlated. .\n",
        "\n",
        "2. You want to show the relationship between two categorical variables: Heatmaps are great for visualizing cross-tabulated data. For instance, you could create a heatmap to show the average sales of different products across different months of the year, with the product types on one axis and the months on the other.\n",
        "\n",
        "3. You want to analyze user behavior on a website or app: This is a very common and practical use. Click maps show where users click the most, and scroll maps show how far down a page users typically scroll. This data helps you understand which parts of your content are most engaging and which are being ignored, guiding design and content optimization efforts.\n",
        "\n",
        "4. You need to visualize geographical or spatial data: A heatmap can be overlaid on a map to show the density of a particular variable, such as population density, crime rates, or customer locations. The \"hotter\" areas on the map would represent higher concentrations of the variable.\n",
        "\n",
        "5. You want to compare data over time: Heatmaps can be used to visualize time-series data with a periodic pattern, like showing how a store's sales change by day of the week and hour of the day."
      ],
      "metadata": {
        "id": "nwad34mWtaoU"
      }
    },
    {
      "cell_type": "markdown",
      "source": [
        "Q.8. What does the term “vectorized operation” mean in NumPy?"
      ],
      "metadata": {
        "id": "_dVwZSWtuL9x"
      }
    },
    {
      "cell_type": "markdown",
      "source": [
        "Ans. In NumPy, a vectorized operation refers to applying a mathematical or logical operation to an entire array at once, without the need for an explicit Python for loop. This approach is significantly faster and more memory-efficient than performing the same operation on each element individually."
      ],
      "metadata": {
        "id": "9BmM1rgruQc_"
      }
    },
    {
      "cell_type": "markdown",
      "source": [
        "Q.9. How does Matplotlib differ from Plotly?"
      ],
      "metadata": {
        "id": "wT5HlmhjuxLD"
      }
    },
    {
      "cell_type": "markdown",
      "source": [
        "Ans. Matplotlib and Plotly are both popular Python libraries for data visualization, but they serve different primary use cases and have distinct strengths. The main difference lies in interactivity and intended output.\n",
        "\n",
        "**Matplotlib:-** Matplotlib is a foundational and highly customizable library for creating static, high-quality plots. It gives you fine-grained control over every element of a plot, from fonts and colors to axis scales and margins.\n",
        "\n",
        "1. Static Plots: It's best suited for generating static images for reports, academic papers, and presentations.\n",
        "\n",
        "2. Granular Control: Matplotlib's strength is its ability to customize every detail of a plot, which makes it the preferred choice for creating publication-ready graphics.\n",
        "\n",
        "3. Learning Curve: While simple for basic plots, creating complex and highly stylized visuals can be verbose and has a steeper learning curve.\n",
        "\n",
        "4. Ecosystem: Matplotlib serves as the base for many other data visualization libraries, like Seaborn and Pandas' built-in plotting functions.\n",
        "\n",
        "**Plotly:-** Plotly is a more modern library designed for creating interactive and web-based visualizations. Its plots come with built-in features like zooming, panning, and hovering to display data values.\n",
        "\n",
        "1. Interactive Plots: Plotly's main advantage is its interactivity, which allows for dynamic data exploration directly within a notebook or web application. This is ideal for dashboards and shared online content. .\n",
        "\n",
        "2. Aesthetics: Plotly's default themes are generally more modern and visually appealing \"out of the box\" compared to Matplotlib.\n",
        "\n",
        "3. Ease of Use: With its high-level interface, particularly plotly.express, you can create complex, interactive plots with minimal code.\n",
        "\n",
        "4. Output: Plotly plots are rendered using JavaScript, making them easy to embed in web pages and dashboards."
      ],
      "metadata": {
        "id": "dFbHriMdvLHz"
      }
    },
    {
      "cell_type": "markdown",
      "source": [
        "Q.10. What is the significance of hierarchical indexing in Pandas?"
      ],
      "metadata": {
        "id": "OfzsBbz-wKGo"
      }
    },
    {
      "cell_type": "markdown",
      "source": [
        "Ans. Hierarchical indexing, also known as MultiIndex, is a powerful feature in Pandas that allows you to have multiple index levels on an axis. This provides a way to work with higher-dimensional data in a two-dimensional structure like a DataFrame or Series. The significance of this feature is that it allows you to represent and analyze complex, multi-layered data in a structured and efficient way."
      ],
      "metadata": {
        "id": "fKCypa6TwPiA"
      }
    },
    {
      "cell_type": "markdown",
      "source": [
        "Q.11. What is the role of Seaborn’s pairplot() function?"
      ],
      "metadata": {
        "id": "aif9oabowvAY"
      }
    },
    {
      "cell_type": "markdown",
      "source": [
        "Ans. The pairplot() function in Seaborn creates a grid of scatter plots and histograms, allowing you to visualize the relationships between multiple variables in a dataset at once. Its role is to provide a quick, high-level overview of the data's distributions and potential correlations"
      ],
      "metadata": {
        "id": "u88D17erw1Eo"
      }
    },
    {
      "cell_type": "markdown",
      "source": [
        "Q.12. What is the purpose of the describe() function in Pandas?"
      ],
      "metadata": {
        "id": "DUeBc9ZoxD2B"
      }
    },
    {
      "cell_type": "markdown",
      "source": [
        "Ans. The describe() function in Pandas is used to generate a descriptive summary of a DataFrame's numerical data. It provides a quick and convenient way to get an overview of the central tendency, dispersion, and shape of the data's distribution."
      ],
      "metadata": {
        "id": "eO3WOSxGxJI1"
      }
    },
    {
      "cell_type": "markdown",
      "source": [
        "Q.13. Why is handling missing data important in Pandas?"
      ],
      "metadata": {
        "id": "DAW0U65FxbsX"
      }
    },
    {
      "cell_type": "markdown",
      "source": [
        "Ans. Handling missing data in pandas is important because it can significantly affect the accuracy and reliability of data analysis and machine learning models. Missing values, often represented as NaN (Not a Number), can lead to biased results, incorrect statistical calculations, and errors in algorithms.\n",
        "\n",
        "**Why Handle Missing Data?**\n",
        "\n",
        "1. Prevents Errors: Many statistical and machine learning algorithms can't handle missing values and will raise an error. Cleaning the data beforehand ensures your code runs smoothly.\n",
        "\n",
        "2. Improves Model Performance: Missing data can introduce bias. For example, if a survey question is only answered by a specific demographic, ignoring the missing values would skew the results. Filling or removing these values ensures your model is trained on a more representative dataset, leading to better predictions.\n",
        "\n",
        "3. Ensures Accurate Analysis: Missing values can throw off simple calculations. The mean of a column with NaNs will be different from the mean of that column with the NaNs filled in with zeros or a more appropriate value. Handling them ensures your descriptive statistics (like mean, median, and mode) accurately reflect the data."
      ],
      "metadata": {
        "id": "mEFCPKFHxiCi"
      }
    },
    {
      "cell_type": "markdown",
      "source": [
        "Q.14. What are the benefits of using Plotly for data visualization?"
      ],
      "metadata": {
        "id": "0eJi2KUH0ZTE"
      }
    },
    {
      "cell_type": "markdown",
      "source": [
        "Ans. Plotly is a powerful open-source graphing library that offers significant benefits for data visualization, primarily because it creates interactive, web-based plots. Unlike static libraries like Matplotlib, Plotly's visualizations allow for a much richer and more engaging user experience.\n",
        "\n",
        "**Key Benefits of Using Plotly:-**\n",
        "\n",
        "1. Interactivity\n",
        "2. A Wide Variety of Chart Types =\n",
        "\n",
        "> Statistical charts(box plots, histograms)\n",
        "\n",
        " > Scientific charts (contour plots, heatmaps)\n",
        "\n",
        "> 3D plots (scatter plots, surface plots)\n",
        "\n",
        "> Geographical maps (choropleth maps)\n",
        "\n",
        "3. High-Quality Aesthetics\n",
        "\n",
        "4. Integration and Portability\n",
        "\n",
        "5. Easy to Use (Especially with Plotly Express)\n",
        "\n",
        "6. Animations"
      ],
      "metadata": {
        "id": "iVU0vqEF0fPi"
      }
    },
    {
      "cell_type": "markdown",
      "source": [
        "Q.15. How does NumPy handle multidimensional arrays?"
      ],
      "metadata": {
        "id": "q14KD7KL4IVs"
      }
    },
    {
      "cell_type": "markdown",
      "source": [
        "Ans. NumPy handles multidimensional arrays by providing the ndarray (n-dimensional array) object, which is a powerful and efficient way to store and manipulate large datasets. Unlike Python lists, which are one-dimensional, ndarrays can have any number of dimensions, making them ideal for representing data like matrices, tensors, and images.\n",
        "\n"
      ],
      "metadata": {
        "id": "bCOO3n9Q4Ox5"
      }
    },
    {
      "cell_type": "markdown",
      "source": [
        "Q.16.  What is the role of Bokeh in data visualization?"
      ],
      "metadata": {
        "id": "uUluf_Ls5Gqx"
      }
    },
    {
      "cell_type": "markdown",
      "source": [
        "Ans. Bokeh is a Python library for creating interactive visualizations for modern web browsers. Its primary role is to enable the creation of dynamic, interactive plots and dashboards that are easily embeddable in web applications and HTML documents. Unlike libraries that focus on static plots (like Matplotlib), Bokeh is specifically designed to handle large datasets and create engaging, interactive experiences for the end-user.\n",
        "\n"
      ],
      "metadata": {
        "id": "ux08sSsK5MwH"
      }
    },
    {
      "cell_type": "markdown",
      "source": [
        "Q.17. Explain the difference between apply() and map() in Pandas."
      ],
      "metadata": {
        "id": "v5Ngrgn_5YBy"
      }
    },
    {
      "cell_type": "markdown",
      "source": [
        "Ans. The key difference between apply() and map() in Pandas lies in their intended use and flexibility. map() is designed to operate on the values of a Series, while apply() is more versatile and can operate on a Series or a DataFrame (row-wise or column-wise).\n",
        "\n",
        "**map():-**\n",
        "\n",
        "The map() method is specifically for element-wise operations on a Series. It is a straightforward way to substitute each value in a Series with another value. This is useful for tasks like:\n",
        "\n",
        "1. Replacing values: You can use a dictionary to replace specific values. For example, replacing string labels like \"M\" and \"F\" with \"Male\" and \"Female\".\n",
        "\n",
        "2. Transforming values: You can pass a function to transform each element of the Series.\n",
        "\n",
        "map() is highly optimized and often faster than apply() for simple element-wise transformations on a Series.\n",
        "\n",
        "**apply():-**\n",
        "\n",
        "The apply() method is more flexible and powerful. It can apply a function along an axis of a DataFrame (either rows or columns) or to a Series.\n",
        "\n",
        "1. DataFrame Operations: With apply(), you can perform operations that involve multiple columns or rows. For example, you can calculate a score for each row based on values from three different columns.\n",
        "\n",
        "2. Series Operations: When used on a Series, apply() behaves similarly to map(), but it is generally less efficient for simple element-wise transformations.\n",
        "\n",
        "apply() is the go-to choice when your transformation logic is more complex and involves multiple columns."
      ],
      "metadata": {
        "id": "Qv_zOFYK5fAH"
      }
    },
    {
      "cell_type": "markdown",
      "source": [
        "Q.18. What are some advanced features of NumPy?"
      ],
      "metadata": {
        "id": "CoL2Mfl66Kvb"
      }
    },
    {
      "cell_type": "markdown",
      "source": [
        "Ans. NumPy, a fundamental package for scientific computing in Python, offers several advanced features that go beyond basic array manipulation. These features are crucial for high-performance numerical operations and efficient memory management.\n",
        "\n",
        "1. Broadcasting\n",
        "\n",
        "2. Universal Functions (ufuncs)\n",
        "\n",
        "3. Vectorization\n",
        "\n",
        "4. Memory-Mapped Files\n",
        "\n",
        "5. Advanced Indexing and Slicing\n",
        "\n",
        "> (A) Boolean Indexing\n",
        "\n",
        "> (B) Integer Array Indexing\n"
      ],
      "metadata": {
        "id": "oVukwLHO6P7b"
      }
    },
    {
      "cell_type": "markdown",
      "source": [
        "Q.19.  How does Pandas simplify time series analysis?"
      ],
      "metadata": {
        "id": "083mtqHQ6RFr"
      }
    },
    {
      "cell_type": "markdown",
      "source": [
        "Ans. Pandas simplifies time series analysis by providing specialized data structures and functions that make it easy to handle and manipulate time-indexed data. Its core strengths lie in its ability to handle different time frequencies, perform powerful resampling operations, and offer a wide range of time-aware features.\n",
        "\n",
        "**Key Features for Time Series:-**\n",
        "\n",
        "1. Date-Time Data Structures\n",
        "\n",
        "2. Frequency and Resampling\n",
        "\n",
        "3. Time-based Indexing and Slicing\n",
        "\n",
        "4. Handling Missing Data\n",
        "\n",
        "5. Rolling Windows"
      ],
      "metadata": {
        "id": "K8KB_DoT6Sdb"
      }
    },
    {
      "cell_type": "markdown",
      "source": [
        "Q.20. What is the role of a pivot table in Pandas?"
      ],
      "metadata": {
        "id": "LFVNJZur6VDl"
      }
    },
    {
      "cell_type": "markdown",
      "source": [
        "Ans. A pivot table in Pandas is a powerful tool for summarizing and rearranging data from a DataFrame. Its primary role is to aggregate data based on one or more key columns, making it easy to create a more compact and readable summary of a larger dataset."
      ],
      "metadata": {
        "id": "gnrO0QoA6XXP"
      }
    },
    {
      "cell_type": "markdown",
      "source": [
        "Q.21. Why is NumPy’s array slicing faster than Python’s list slicing?"
      ],
      "metadata": {
        "id": "-oZtRSdz6Z3c"
      }
    },
    {
      "cell_type": "markdown",
      "source": [
        "Ans. NumPy's array slicing is faster than Python's list slicing primarily because of how the two data structures are stored in memory and how slicing operations are handled.\n",
        "\n",
        "**Contiguous Memory and C-Level Operations:-** NumPy arrays are stored in a single, contiguous block of memory. This means that all elements of the array are located next to each other in memory. When you slice a NumPy array, it returns a view of the original data rather than a copy. . This means NumPy doesn't have to allocate new memory or copy a large number of elements. Instead, it simply creates a new array object that points to the same underlying data, but with new shape and stride information, making the operation incredibly fast. This process is handled by NumPy's low-level C implementation, which avoids the overhead of the Python interpreter.\n",
        "\n",
        "**Overhead of Python Lists:-** In contrast, Python lists do not store their elements contiguously. A list is essentially an array of pointers to the memory locations of its elements, which can be scattered throughout memory. When you slice a Python list, the interpreter must perform a deep copy. It allocates new memory for the sliced list and then iterates through the original list, following each pointer to copy the elements one by one into the new memory location. This process is much slower and more memory-intensive, especially for large lists, because of the extra steps of memory allocation and data copying."
      ],
      "metadata": {
        "id": "pnrbklen6bT4"
      }
    },
    {
      "cell_type": "markdown",
      "source": [
        "Q.22. What are some common use cases for Seaborn?"
      ],
      "metadata": {
        "id": "XxoyOSPk6cdV"
      }
    },
    {
      "cell_type": "markdown",
      "source": [
        "Ans. Seaborn's strength lies in its ability to create statistical visualizations for exploratory data analysis (EDA). It provides a high-level, dataset-oriented API that simplifies the process of creating complex and informative plots.\n",
        "\n",
        "**Common Use Cases:-**\n",
        "\n",
        "1. Univariate Distribution Plots: Seaborn is often used to visualize the distribution of a single variable. Functions like histplot() and kdeplot() can be used to create histograms and kernel density estimates, which help in understanding the shape, central tendency, and spread of the data.\n",
        "\n",
        "2. Bivariate and Multivariate Plots: A key strength of Seaborn is its ability to visualize relationships between multiple variables. The relplot() function can create scatter plots and line plots, while jointplot() combines a scatter plot with marginal distributions. . This is useful for quickly identifying correlations.\n",
        "\n",
        "3. Visualizing Categorical Data: Seaborn has specialized functions for working with categorical data. boxplot(), violinplot(), and swarmplot() are used to compare distributions across different categories, making it easy to spot differences in means, medians, and outliers between groups.\n",
        "\n",
        "4. Correlation Matrices and Heatmaps: For datasets with many numerical variables, Seaborn's heatmap() function is invaluable. It can visualize a correlation matrix, where each cell's color represents the strength of the correlation between two variables. This provides a clear, at-a-glance view of the relationships within the dataset.\n",
        "\n",
        "5. Multi-plot Grids: Seaborn's FacetGrid and pairplot() functions are used to create grids of plots based on one or more categorical variables. For example, a pairplot() can generate a grid of scatter plots for every pair of variables in a DataFrame, with histograms on the diagonal, providing a comprehensive visual summary of the data."
      ],
      "metadata": {
        "id": "Crnu7U6K6eLt"
      }
    },
    {
      "cell_type": "markdown",
      "source": [
        "# ***Practical Questions***"
      ],
      "metadata": {
        "id": "MhvO9tPNAkVD"
      }
    },
    {
      "cell_type": "markdown",
      "source": [
        "Q.1. How do you create a 2D NumPy array and calculate the sum of each row?"
      ],
      "metadata": {
        "id": "bJH-B7bjAwP7"
      }
    },
    {
      "cell_type": "code",
      "source": [
        "import numpy as np\n",
        "\n",
        "# Create a 2D NumPy array\n",
        "arr = np.array([[1, 2, 3],\n",
        "                [4, 5, 6],\n",
        "                [7, 8, 9]])\n",
        "\n",
        "print(\"2D NumPy Array:\")\n",
        "print(arr)\n",
        "\n",
        "# Calculate the sum of each row\n",
        "row_sums = np.sum(arr, axis=1)\n",
        "\n",
        "print(\"Sum of each row:\", row_sums)"
      ],
      "metadata": {
        "colab": {
          "base_uri": "https://localhost:8080/"
        },
        "id": "iODrID1X3rRK",
        "outputId": "28f716a7-4dbb-4766-e73b-ce104012f7d4"
      },
      "execution_count": null,
      "outputs": [
        {
          "output_type": "stream",
          "name": "stdout",
          "text": [
            "2D NumPy Array:\n",
            "[[1 2 3]\n",
            " [4 5 6]\n",
            " [7 8 9]]\n",
            "Sum of each row: [ 6 15 24]\n"
          ]
        }
      ]
    },
    {
      "cell_type": "markdown",
      "source": [
        "Q.2. Write a Pandas script to find the mean of a specific column in a DataFrame."
      ],
      "metadata": {
        "id": "l_9q7L3_3_TR"
      }
    },
    {
      "cell_type": "code",
      "source": [
        "import pandas as pd\n",
        "\n",
        "#Create a sample DataFrame\n",
        "data = {\n",
        "    'Name': ['Alice', 'Bob', 'Charlie', 'David'],\n",
        "    'Age': [25, 30, 35, 40],\n",
        "    'Salary': [50000, 60000, 70000, 80000]\n",
        "}\n",
        "\n",
        "df = pd.DataFrame(data)\n",
        "\n",
        "# Calculate the mean of the 'Age' column\n",
        "mean_Age = df['Age'].mean()\n",
        "\n",
        "print(\"\\nMean of Age column:\", mean_Age)"
      ],
      "metadata": {
        "colab": {
          "base_uri": "https://localhost:8080/"
        },
        "id": "yCNTrYYy4Jwi",
        "outputId": "fabb417d-dcd9-4054-ac05-2f4f6c39bd99"
      },
      "execution_count": null,
      "outputs": [
        {
          "output_type": "stream",
          "name": "stdout",
          "text": [
            "\n",
            "Mean of Age column: 32.5\n"
          ]
        }
      ]
    },
    {
      "cell_type": "markdown",
      "source": [
        "Q.3. Create a scatter plot using Matplotlib."
      ],
      "metadata": {
        "id": "RXw_K9yo7pLA"
      }
    },
    {
      "cell_type": "code",
      "source": [
        "import matplotlib.pyplot as plt\n",
        "\n",
        "#Sample data\n",
        "x = [1, 2, 3, 4, 5]\n",
        "y = [2, 4, 5, 4, 6]\n",
        "\n",
        "# Create a scatter plot\n",
        "plt.scatter(x, y, color='blue',marker='o')\n",
        "\n",
        "# Add labels and title\n",
        "plt.xlabel(\"X-axis\")\n",
        "plt.ylabel(\"Y-axis\")\n",
        "plt.title(\"Simple Scatter Plot\")\n",
        "\n",
        "# Display the plot\n",
        "plt.show()"
      ],
      "metadata": {
        "colab": {
          "base_uri": "https://localhost:8080/",
          "height": 472
        },
        "id": "giCXN-iX7t2r",
        "outputId": "305570d1-609c-4b59-e055-9c3607bf7af4"
      },
      "execution_count": null,
      "outputs": [
        {
          "output_type": "display_data",
          "data": {
            "text/plain": [
              "<Figure size 640x480 with 1 Axes>"
            ],
            "image/png": "[encoded data removed]"
          },
          "metadata": {}
        }
      ]
    },
    {
      "cell_type": "markdown",
      "source": [
        "Q.4. How do you calculate the correlation matrix using Seaborn and visualize it with a heatmap?"
      ],
      "metadata": {
        "id": "W0Q-yCtJ9UeC"
      }
    },
    {
      "cell_type": "code",
      "source": [
        "import pandas as pd\n",
        "import seaborn as sns\n",
        "import matplotlib.pyplot as plt\n",
        "import numpy as np\n",
        "\n",
        "# Create a sample DataFrame with multiple numerical columns\n",
        "np.random.seed(42)  # for reproducibility\n",
        "data = {\n",
        "    'A': np.random.rand(10) * 10,\n",
        "    'B': np.random.rand(10) * 5,\n",
        "    'C': np.random.rand(10) * 15,\n",
        "    'D': np.random.rand(10) * 20\n",
        "}\n",
        "df = pd.DataFrame(data)\n",
        "\n",
        "# Print the original DataFrame\n",
        "print(\"Original DataFrame:\")\n",
        "print(df)\n",
        "\n",
        "# Calculate the correlation matrix\n",
        "correlation_matrix = df.corr()\n",
        "\n",
        "# Print the correlation matrix\n",
        "print(\"\\nCorrelation Matrix:\")\n",
        "print(correlation_matrix)\n",
        "\n",
        "# Create a heatmap of the correlation matrix\n",
        "plt.figure(figsize=(8, 6))\n",
        "sns.heatmap(correlation_matrix, annot=True, cmap='coolwarm', fmt=\".2f\",\n",
        "            linewidths=.5, linecolor='black')\n",
        "\n",
        "# Add a title to the heatmap\n",
        "plt.title('Correlation Matrix Heatmap')\n",
        "\n",
        "# Display the plot\n",
        "plt.show()"
      ],
      "metadata": {
        "colab": {
          "base_uri": "https://localhost:8080/",
          "height": 875
        },
        "id": "GvvzKHvI9ZoQ",
        "outputId": "24040f50-4ca6-4a56-f297-526f395da63e"
      },
      "execution_count": null,
      "outputs": [
        {
          "output_type": "stream",
          "name": "stdout",
          "text": [
            "Original DataFrame:\n",
            "          A         B          C          D\n",
            "0  3.745401  0.102922   9.177793  12.150897\n",
            "1  9.507143  4.849549   2.092408   3.410482\n",
            "2  7.319939  4.162213   4.382170   1.301032\n",
            "3  5.986585  1.061696   5.495428  18.977711\n",
            "4  1.560186  0.909125   6.841050  19.312641\n",
            "5  1.559945  0.917023  11.777639  16.167947\n",
            "6  0.580836  1.521211   2.995107   6.092275\n",
            "7  8.661761  2.623782   7.713517   1.953442\n",
            "8  6.011150  2.159725   8.886219  13.684661\n",
            "9  7.080726  1.456146   0.696756   8.803050\n",
            "\n",
            "Correlation Matrix:\n",
            "          A         B         C         D\n",
            "A  1.000000  0.704285 -0.372964 -0.555227\n",
            "B  0.704285  1.000000 -0.450620 -0.736808\n",
            "C -0.372964 -0.450620  1.000000  0.464012\n",
            "D -0.555227 -0.736808  0.464012  1.000000\n"
          ]
        },
        {
          "output_type": "display_data",
          "data": {
            "text/plain": [
              "<Figure size 800x600 with 2 Axes>"
            ],
            "image/png": "[encoded data removed]"
          },
          "metadata": {}
        }
      ]
    },
    {
      "cell_type": "markdown",
      "source": [
        "Q.5.  Generate a bar plot using Plotly."
      ],
      "metadata": {
        "id": "MKzb9rLn-Ncw"
      }
    },
    {
      "cell_type": "code",
      "source": [
        "import plotly.express as px\n",
        "import pandas as pd\n",
        "\n",
        "#Sample data\n",
        "data = {\n",
        "    'Category': ['A', 'B', 'C', 'D'],\n",
        "    'Values': [10, 15, 8, 12]\n",
        "}\n",
        "\n",
        "df = pd.DataFrame(data)\n",
        "\n",
        "#Create an interactive bar Plot\n",
        "fig = px.bar(df, x='Category', y='Values', title='Simple Bar Plot')\n",
        "\n",
        "# Show the plot\n",
        "fig.show()\n"
      ],
      "metadata": {
        "colab": {
          "base_uri": "https://localhost:8080/",
          "height": 542
        },
        "id": "vANFY686-UEb",
        "outputId": "1ed01b4e-1e1d-4fd5-9958-567c7f23aa15"
      },
      "execution_count": null,
      "outputs": [
        {
          "output_type": "display_data",
          "data": {
            "text/html": [
              "<html>\n",
              "<head><meta charset=\"utf-8\" /></head>\n",
              "<body>\n",
              "    <div>            <script src=\"https://cdnjs.cloudflare.com/ajax/libs/mathjax/2.7.5/MathJax.js?config=TeX-AMS-MML_SVG\"></script><script type=\"text/javascript\">if (window.MathJax && window.MathJax.Hub && window.MathJax.Hub.Config) {window.MathJax.Hub.Config({SVG: {font: \"STIX-Web\"}});}</script>                <script type=\"text/javascript\">window.PlotlyConfig = {MathJaxConfig: 'local'};</script>\n",
              "        <script charset=\"utf-8\" src=\"https://cdn.plot.ly/plotly-2.35.2.min.js\"></script>                <div id=\"fe3be210-a563-4c5f-aa85-9f3cd4bedffd\" class=\"plotly-graph-div\" style=\"height:525px; width:100%;\"></div>            <script type=\"text/javascript\">                                    window.PLOTLYENV=window.PLOTLYENV || {};                                    if (document.getElementById(\"fe3be210-a563-4c5f-aa85-9f3cd4bedffd\")) {                    Plotly.newPlot(                        \"fe3be210-a563-4c5f-aa85-9f3cd4bedffd\",                        [{\"alignmentgroup\":\"True\",\"hovertemplate\":\"Category=%{x}\\u003cbr\\u003eValues=%{y}\\u003cextra\\u003e\\u003c\\u002fextra\\u003e\",\"legendgroup\":\"\",\"marker\":{\"color\":\"#636efa\",\"pattern\":{\"shape\":\"\"}},\"name\":\"\",\"offsetgroup\":\"\",\"orientation\":\"v\",\"showlegend\":false,\"textposition\":\"auto\",\"x\":[\"A\",\"B\",\"C\",\"D\"],\"xaxis\":\"x\",\"y\":[10,15,8,12],\"yaxis\":\"y\",\"type\":\"bar\"}],                        {\"template\":{\"data\":{\"histogram2dcontour\":[{\"type\":\"histogram2dcontour\",\"colorbar\":{\"outlinewidth\":0,\"ticks\":\"\"},\"colorscale\":[[0.0,\"#0d0887\"],[0.1111111111111111,\"#46039f\"],[0.2222222222222222,\"#7201a8\"],[0.3333333333333333,\"#9c179e\"],[0.4444444444444444,\"#bd3786\"],[0.5555555555555556,\"#d8576b\"],[0.6666666666666666,\"#ed7953\"],[0.7777777777777778,\"#fb9f3a\"],[0.8888888888888888,\"#fdca26\"],[1.0,\"#f0f921\"]]}],\"choropleth\":[{\"type\":\"choropleth\",\"colorbar\":{\"outlinewidth\":0,\"ticks\":\"\"}}],\"histogram2d\":[{\"type\":\"histogram2d\",\"colorbar\":{\"outlinewidth\":0,\"ticks\":\"\"},\"colorscale\":[[0.0,\"#0d0887\"],[0.1111111111111111,\"#46039f\"],[0.2222222222222222,\"#7201a8\"],[0.3333333333333333,\"#9c179e\"],[0.4444444444444444,\"#bd3786\"],[0.5555555555555556,\"#d8576b\"],[0.6666666666666666,\"#ed7953\"],[0.7777777777777778,\"#fb9f3a\"],[0.8888888888888888,\"#fdca26\"],[1.0,\"#f0f921\"]]}],\"heatmap\":[{\"type\":\"heatmap\",\"colorbar\":{\"outlinewidth\":0,\"ticks\":\"\"},\"colorscale\":[[0.0,\"#0d0887\"],[0.1111111111111111,\"#46039f\"],[0.2222222222222222,\"#7201a8\"],[0.3333333333333333,\"#9c179e\"],[0.4444444444444444,\"#bd3786\"],[0.5555555555555556,\"#d8576b\"],[0.6666666666666666,\"#ed7953\"],[0.7777777777777778,\"#fb9f3a\"],[0.8888888888888888,\"#fdca26\"],[1.0,\"#f0f921\"]]}],\"heatmapgl\":[{\"type\":\"heatmapgl\",\"colorbar\":{\"outlinewidth\":0,\"ticks\":\"\"},\"colorscale\":[[0.0,\"#0d0887\"],[0.1111111111111111,\"#46039f\"],[0.2222222222222222,\"#7201a8\"],[0.3333333333333333,\"#9c179e\"],[0.4444444444444444,\"#bd3786\"],[0.5555555555555556,\"#d8576b\"],[0.6666666666666666,\"#ed7953\"],[0.7777777777777778,\"#fb9f3a\"],[0.8888888888888888,\"#fdca26\"],[1.0,\"#f0f921\"]]}],\"contourcarpet\":[{\"type\":\"contourcarpet\",\"colorbar\":{\"outlinewidth\":0,\"ticks\":\"\"}}],\"contour\":[{\"type\":\"contour\",\"colorbar\":{\"outlinewidth\":0,\"ticks\":\"\"},\"colorscale\":[[0.0,\"#0d0887\"],[0.1111111111111111,\"#46039f\"],[0.2222222222222222,\"#7201a8\"],[0.3333333333333333,\"#9c179e\"],[0.4444444444444444,\"#bd3786\"],[0.5555555555555556,\"#d8576b\"],[0.6666666666666666,\"#ed7953\"],[0.7777777777777778,\"#fb9f3a\"],[0.8888888888888888,\"#fdca26\"],[1.0,\"#f0f921\"]]}],\"surface\":[{\"type\":\"surface\",\"colorbar\":{\"outlinewidth\":0,\"ticks\":\"\"},\"colorscale\":[[0.0,\"#0d0887\"],[0.1111111111111111,\"#46039f\"],[0.2222222222222222,\"#7201a8\"],[0.3333333333333333,\"#9c179e\"],[0.4444444444444444,\"#bd3786\"],[0.5555555555555556,\"#d8576b\"],[0.6666666666666666,\"#ed7953\"],[0.7777777777777778,\"#fb9f3a\"],[0.8888888888888888,\"#fdca26\"],[1.0,\"#f0f921\"]]}],\"mesh3d\":[{\"type\":\"mesh3d\",\"colorbar\":{\"outlinewidth\":0,\"ticks\":\"\"}}],\"scatter\":[{\"fillpattern\":{\"fillmode\":\"overlay\",\"size\":10,\"solidity\":0.2},\"type\":\"scatter\"}],\"parcoords\":[{\"type\":\"parcoords\",\"line\":{\"colorbar\":{\"outlinewidth\":0,\"ticks\":\"\"}}}],\"scatterpolargl\":[{\"type\":\"scatterpolargl\",\"marker\":{\"colorbar\":{\"outlinewidth\":0,\"ticks\":\"\"}}}],\"bar\":[{\"error_x\":{\"color\":\"#2a3f5f\"},\"error_y\":{\"color\":\"#2a3f5f\"},\"marker\":{\"line\":{\"color\":\"#E5ECF6\",\"width\":0.5},\"pattern\":{\"fillmode\":\"overlay\",\"size\":10,\"solidity\":0.2}},\"type\":\"bar\"}],\"scattergeo\":[{\"type\":\"scattergeo\",\"marker\":{\"colorbar\":{\"outlinewidth\":0,\"ticks\":\"\"}}}],\"scatterpolar\":[{\"type\":\"scatterpolar\",\"marker\":{\"colorbar\":{\"outlinewidth\":0,\"ticks\":\"\"}}}],\"histogram\":[{\"marker\":{\"pattern\":{\"fillmode\":\"overlay\",\"size\":10,\"solidity\":0.2}},\"type\":\"histogram\"}],\"scattergl\":[{\"type\":\"scattergl\",\"marker\":{\"colorbar\":{\"outlinewidth\":0,\"ticks\":\"\"}}}],\"scatter3d\":[{\"type\":\"scatter3d\",\"line\":{\"colorbar\":{\"outlinewidth\":0,\"ticks\":\"\"}},\"marker\":{\"colorbar\":{\"outlinewidth\":0,\"ticks\":\"\"}}}],\"scattermapbox\":[{\"type\":\"scattermapbox\",\"marker\":{\"colorbar\":{\"outlinewidth\":0,\"ticks\":\"\"}}}],\"scatterternary\":[{\"type\":\"scatterternary\",\"marker\":{\"colorbar\":{\"outlinewidth\":0,\"ticks\":\"\"}}}],\"scattercarpet\":[{\"type\":\"scattercarpet\",\"marker\":{\"colorbar\":{\"outlinewidth\":0,\"ticks\":\"\"}}}],\"carpet\":[{\"aaxis\":{\"endlinecolor\":\"#2a3f5f\",\"gridcolor\":\"white\",\"linecolor\":\"white\",\"minorgridcolor\":\"white\",\"startlinecolor\":\"#2a3f5f\"},\"baxis\":{\"endlinecolor\":\"#2a3f5f\",\"gridcolor\":\"white\",\"linecolor\":\"white\",\"minorgridcolor\":\"white\",\"startlinecolor\":\"#2a3f5f\"},\"type\":\"carpet\"}],\"table\":[{\"cells\":{\"fill\":{\"color\":\"#EBF0F8\"},\"line\":{\"color\":\"white\"}},\"header\":{\"fill\":{\"color\":\"#C8D4E3\"},\"line\":{\"color\":\"white\"}},\"type\":\"table\"}],\"barpolar\":[{\"marker\":{\"line\":{\"color\":\"#E5ECF6\",\"width\":0.5},\"pattern\":{\"fillmode\":\"overlay\",\"size\":10,\"solidity\":0.2}},\"type\":\"barpolar\"}],\"pie\":[{\"automargin\":true,\"type\":\"pie\"}]},\"layout\":{\"autotypenumbers\":\"strict\",\"colorway\":[\"#636efa\",\"#EF553B\",\"#00cc96\",\"#ab63fa\",\"#FFA15A\",\"#19d3f3\",\"#FF6692\",\"#B6E880\",\"#FF97FF\",\"#FECB52\"],\"font\":{\"color\":\"#2a3f5f\"},\"hovermode\":\"closest\",\"hoverlabel\":{\"align\":\"left\"},\"paper_bgcolor\":\"white\",\"plot_bgcolor\":\"#E5ECF6\",\"polar\":{\"bgcolor\":\"#E5ECF6\",\"angularaxis\":{\"gridcolor\":\"white\",\"linecolor\":\"white\",\"ticks\":\"\"},\"radialaxis\":{\"gridcolor\":\"white\",\"linecolor\":\"white\",\"ticks\":\"\"}},\"ternary\":{\"bgcolor\":\"#E5ECF6\",\"aaxis\":{\"gridcolor\":\"white\",\"linecolor\":\"white\",\"ticks\":\"\"},\"baxis\":{\"gridcolor\":\"white\",\"linecolor\":\"white\",\"ticks\":\"\"},\"caxis\":{\"gridcolor\":\"white\",\"linecolor\":\"white\",\"ticks\":\"\"}},\"coloraxis\":{\"colorbar\":{\"outlinewidth\":0,\"ticks\":\"\"}},\"colorscale\":{\"sequential\":[[0.0,\"#0d0887\"],[0.1111111111111111,\"#46039f\"],[0.2222222222222222,\"#7201a8\"],[0.3333333333333333,\"#9c179e\"],[0.4444444444444444,\"#bd3786\"],[0.5555555555555556,\"#d8576b\"],[0.6666666666666666,\"#ed7953\"],[0.7777777777777778,\"#fb9f3a\"],[0.8888888888888888,\"#fdca26\"],[1.0,\"#f0f921\"]],\"sequentialminus\":[[0.0,\"#0d0887\"],[0.1111111111111111,\"#46039f\"],[0.2222222222222222,\"#7201a8\"],[0.3333333333333333,\"#9c179e\"],[0.4444444444444444,\"#bd3786\"],[0.5555555555555556,\"#d8576b\"],[0.6666666666666666,\"#ed7953\"],[0.7777777777777778,\"#fb9f3a\"],[0.8888888888888888,\"#fdca26\"],[1.0,\"#f0f921\"]],\"diverging\":[[0,\"#8e0152\"],[0.1,\"#c51b7d\"],[0.2,\"#de77ae\"],[0.3,\"#f1b6da\"],[0.4,\"#fde0ef\"],[0.5,\"#f7f7f7\"],[0.6,\"#e6f5d0\"],[0.7,\"#b8e186\"],[0.8,\"#7fbc41\"],[0.9,\"#4d9221\"],[1,\"#276419\"]]},\"xaxis\":{\"gridcolor\":\"white\",\"linecolor\":\"white\",\"ticks\":\"\",\"title\":{\"standoff\":15},\"zerolinecolor\":\"white\",\"automargin\":true,\"zerolinewidth\":2},\"yaxis\":{\"gridcolor\":\"white\",\"linecolor\":\"white\",\"ticks\":\"\",\"title\":{\"standoff\":15},\"zerolinecolor\":\"white\",\"automargin\":true,\"zerolinewidth\":2},\"scene\":{\"xaxis\":{\"backgroundcolor\":\"#E5ECF6\",\"gridcolor\":\"white\",\"linecolor\":\"white\",\"showbackground\":true,\"ticks\":\"\",\"zerolinecolor\":\"white\",\"gridwidth\":2},\"yaxis\":{\"backgroundcolor\":\"#E5ECF6\",\"gridcolor\":\"white\",\"linecolor\":\"white\",\"showbackground\":true,\"ticks\":\"\",\"zerolinecolor\":\"white\",\"gridwidth\":2},\"zaxis\":{\"backgroundcolor\":\"#E5ECF6\",\"gridcolor\":\"white\",\"linecolor\":\"white\",\"showbackground\":true,\"ticks\":\"\",\"zerolinecolor\":\"white\",\"gridwidth\":2}},\"shapedefaults\":{\"line\":{\"color\":\"#2a3f5f\"}},\"annotationdefaults\":{\"arrowcolor\":\"#2a3f5f\",\"arrowhead\":0,\"arrowwidth\":1},\"geo\":{\"bgcolor\":\"white\",\"landcolor\":\"#E5ECF6\",\"subunitcolor\":\"white\",\"showland\":true,\"showlakes\":true,\"lakecolor\":\"white\"},\"title\":{\"x\":0.05},\"mapbox\":{\"style\":\"light\"}}},\"xaxis\":{\"anchor\":\"y\",\"domain\":[0.0,1.0],\"title\":{\"text\":\"Category\"}},\"yaxis\":{\"anchor\":\"x\",\"domain\":[0.0,1.0],\"title\":{\"text\":\"Values\"}},\"legend\":{\"tracegroupgap\":0},\"title\":{\"text\":\"Simple Bar Plot\"},\"barmode\":\"relative\"},                        {\"responsive\": true}                    ).then(function(){\n",
              "                            \n",
              "var gd = document.getElementById('fe3be210-a563-4c5f-aa85-9f3cd4bedffd');\n",
              "var x = new MutationObserver(function (mutations, observer) {{\n",
              "        var display = window.getComputedStyle(gd).display;\n",
              "        if (!display || display === 'none') {{\n",
              "            console.log([gd, 'removed!']);\n",
              "            Plotly.purge(gd);\n",
              "            observer.disconnect();\n",
              "        }}\n",
              "}});\n",
              "\n",
              "// Listen for the removal of the full notebook cells\n",
              "var notebookContainer = gd.closest('#notebook-container');\n",
              "if (notebookContainer) {{\n",
              "    x.observe(notebookContainer, {childList: true});\n",
              "}}\n",
              "\n",
              "// Listen for the clearing of the current output cell\n",
              "var outputEl = gd.closest('.output');\n",
              "if (outputEl) {{\n",
              "    x.observe(outputEl, {childList: true});\n",
              "}}\n",
              "\n",
              "                        })                };                            </script>        </div>\n",
              "</body>\n",
              "</html>"
            ]
          },
          "metadata": {}
        }
      ]
    },
    {
      "cell_type": "markdown",
      "source": [
        "Q.6. Create a DataFrame and add a new column based on an existing column."
      ],
      "metadata": {
        "id": "ikVuTcig_JaF"
      }
    },
    {
      "cell_type": "code",
      "source": [
        "import pandas as pd\n",
        "\n",
        "# Create a sample DataFrame\n",
        "data = {\n",
        "    'Product': ['Laptop', 'Mouse', 'Keyboard', 'Monitor'],\n",
        "    'Price': [1200, 25, 75, 300],\n",
        "    'Quantity': [10, 50, 20, 5]\n",
        "}\n",
        "df = pd.DataFrame(data)\n",
        "\n",
        "print(\"Original DataFrame:\")\n",
        "print(df)\n",
        "\n",
        "# Add a new column 'Total_Value' by multiplying 'Price' and 'Quantity'\n",
        "df['Total_Value'] = df['Price'] * df['Quantity']\n",
        "\n",
        "print(\"\\nDataFrame with the new column 'Total_Value':\")\n",
        "print(df)"
      ],
      "metadata": {
        "colab": {
          "base_uri": "https://localhost:8080/"
        },
        "id": "L2n1syHG_Oo_",
        "outputId": "c7c18f6b-f366-476a-8032-98ef9cafc1f1"
      },
      "execution_count": null,
      "outputs": [
        {
          "output_type": "stream",
          "name": "stdout",
          "text": [
            "Original DataFrame:\n",
            "    Product  Price  Quantity\n",
            "0    Laptop   1200        10\n",
            "1     Mouse     25        50\n",
            "2  Keyboard     75        20\n",
            "3   Monitor    300         5\n",
            "\n",
            "DataFrame with the new column 'Total_Value':\n",
            "    Product  Price  Quantity  Total_Value\n",
            "0    Laptop   1200        10        12000\n",
            "1     Mouse     25        50         1250\n",
            "2  Keyboard     75        20         1500\n",
            "3   Monitor    300         5         1500\n"
          ]
        }
      ]
    },
    {
      "cell_type": "markdown",
      "source": [
        "Q.7. Write a program to perform element-wise multiplication of two NumPy arrays."
      ],
      "metadata": {
        "id": "0rRI6zPv_6U4"
      }
    },
    {
      "cell_type": "code",
      "source": [
        "import numpy as np\n",
        "\n",
        "# Create two NumPy arrays\n",
        "array1 = np.array([1, 2, 3, 4])\n",
        "array2 = np.array([5, 6, 7, 8])\n",
        "\n",
        "print(\"Array 1:\")\n",
        "print(array1)\n",
        "print(\"\\nArray 2:\")\n",
        "print(array2)\n",
        "\n",
        "# Perform element-wise multiplication\n",
        "result_array = array1 * array2\n",
        "\n",
        "print(\"\\nResult of element-wise multiplication:\")\n",
        "print(result_array)"
      ],
      "metadata": {
        "colab": {
          "base_uri": "https://localhost:8080/"
        },
        "id": "CKUatQxd_-WK",
        "outputId": "47d07035-3c5a-4259-a0d0-59e63e3b7dd3"
      },
      "execution_count": null,
      "outputs": [
        {
          "output_type": "stream",
          "name": "stdout",
          "text": [
            "Array 1:\n",
            "[1 2 3 4]\n",
            "\n",
            "Array 2:\n",
            "[5 6 7 8]\n",
            "\n",
            "Result of element-wise multiplication:\n",
            "[ 5 12 21 32]\n"
          ]
        }
      ]
    },
    {
      "cell_type": "markdown",
      "source": [
        "Q.8. Create a line plot with multiple lines using Matplotlib."
      ],
      "metadata": {
        "id": "erLScD_MAQH8"
      }
    },
    {
      "cell_type": "code",
      "source": [
        "import matplotlib.pyplot as plt\n",
        "import numpy as np\n",
        "\n",
        "# Sample data\n",
        "x = np.linspace(0, 10, 100)\n",
        "y1 = np.sin(x)\n",
        "y2 = np.cos(x)\n",
        "y3 = np.sin(x + np.pi/2)\n",
        "\n",
        "# Create the plot\n",
        "plt.figure(figsize=(10, 6))\n",
        "\n",
        "# Plot each line\n",
        "plt.plot(x, y1, label='sin(x)', color='blue', linestyle='-')\n",
        "plt.plot(x, y2, label='cos(x)', color='red', linestyle='--')\n",
        "plt.plot(x, y3, label='sin(x + pi/2)', color='green', linestyle=':')\n",
        "\n",
        "# Add labels, title, and a legend\n",
        "plt.title('Multiple Lines in a Matplotlib Plot')\n",
        "plt.xlabel('X-axis')\n",
        "plt.ylabel('Y-axis')\n",
        "plt.legend()\n",
        "plt.grid(True)\n",
        "\n",
        "# Show the plot\n",
        "plt.show()"
      ],
      "metadata": {
        "colab": {
          "base_uri": "https://localhost:8080/",
          "height": 564
        },
        "id": "spi_6ReiAVXZ",
        "outputId": "c10fb227-75e1-477f-b592-e1d45b371a76"
      },
      "execution_count": null,
      "outputs": [
        {
          "output_type": "display_data",
          "data": {
            "text/plain": [
              "<Figure size 1000x600 with 1 Axes>"
            ],
            "image/png": "[encoded data removed]"
          },
          "metadata": {}
        }
      ]
    },
    {
      "cell_type": "markdown",
      "source": [
        "Q.9. Generate a Pandas DataFrame and filter rows where a column value is greater than a threshold."
      ],
      "metadata": {
        "id": "2i4Nq4SVAp5P"
      }
    },
    {
      "cell_type": "code",
      "source": [
        "import pandas as pd\n",
        "\n",
        "# Create a sample DataFrame\n",
        "data = {\n",
        "    'Product': ['Laptop', 'Mouse', 'Keyboard', 'Monitor', 'Webcam', 'Microphone'],\n",
        "    'Price': [1200, 25, 75, 300, 50, 90],\n",
        "    'Quantity': [10, 50, 20, 5, 15, 8]\n",
        "}\n",
        "df = pd.DataFrame(data)\n",
        "\n",
        "print(\"Original DataFrame:\")\n",
        "print(df)\n",
        "\n",
        "# Set a price threshold\n",
        "price_threshold = 100\n",
        "\n",
        "# Filter the DataFrame to show only products with a price greater than the threshold\n",
        "filtered_df = df[df['Price'] > price_threshold]\n",
        "\n",
        "print(f\"\\nDataFrame filtered for prices greater than ${price_threshold}:\")\n",
        "print(filtered_df)"
      ],
      "metadata": {
        "colab": {
          "base_uri": "https://localhost:8080/"
        },
        "id": "Lka2B1ysAvZV",
        "outputId": "c213c302-996b-4dc4-f4a3-aaf1336e9786"
      },
      "execution_count": null,
      "outputs": [
        {
          "output_type": "stream",
          "name": "stdout",
          "text": [
            "Original DataFrame:\n",
            "      Product  Price  Quantity\n",
            "0      Laptop   1200        10\n",
            "1       Mouse     25        50\n",
            "2    Keyboard     75        20\n",
            "3     Monitor    300         5\n",
            "4      Webcam     50        15\n",
            "5  Microphone     90         8\n",
            "\n",
            "DataFrame filtered for prices greater than $100:\n",
            "   Product  Price  Quantity\n",
            "0   Laptop   1200        10\n",
            "3  Monitor    300         5\n"
          ]
        }
      ]
    },
    {
      "cell_type": "markdown",
      "source": [
        "Q.10. Create a histogram using Seaborn to visualize a distribution."
      ],
      "metadata": {
        "id": "Znh5vfRqA9LO"
      }
    },
    {
      "cell_type": "code",
      "source": [
        "import seaborn as sns\n",
        "import matplotlib.pyplot as plt\n",
        "import numpy as np\n",
        "\n",
        "# Set the style of the plot\n",
        "sns.set_style(\"whitegrid\")\n",
        "\n",
        "# Generate some random data with a normal distribution\n",
        "data = np.random.normal(loc=0, scale=1, size=1000)\n",
        "\n",
        "# Create a histogram using Seaborn's histplot function\n",
        "plt.figure(figsize=(10, 6))\n",
        "sns.histplot(data, bins=30, kde=True)\n",
        "\n",
        "# Add title and labels\n",
        "plt.title('Distribution of Random Data')\n",
        "plt.xlabel('Value')\n",
        "plt.ylabel('Frequency')\n",
        "\n",
        "# Show the plot\n",
        "plt.show()"
      ],
      "metadata": {
        "colab": {
          "base_uri": "https://localhost:8080/",
          "height": 564
        },
        "id": "MLmjGVhSBDGk",
        "outputId": "de7a52cc-1f43-49f9-aa5a-27946c742be1"
      },
      "execution_count": null,
      "outputs": [
        {
          "output_type": "display_data",
          "data": {
            "text/plain": [
              "<Figure size 1000x600 with 1 Axes>"
            ],
            "image/png": "[encoded data removed]"
          },
          "metadata": {}
        }
      ]
    },
    {
      "cell_type": "markdown",
      "source": [
        "Q.11.  Perform matrix multiplication using NumPy."
      ],
      "metadata": {
        "id": "SAJZWGkWBOpI"
      }
    },
    {
      "cell_type": "code",
      "source": [
        "import numpy as np\n",
        "\n",
        "# Create two 2D NumPy arrays (matrices)\n",
        "# Matrix A has dimensions 2x3\n",
        "A = np.array([[1, 2, 3],\n",
        "              [4, 5, 6]])\n",
        "\n",
        "# Matrix B has dimensions 3x2\n",
        "B = np.array([[7, 8],\n",
        "              [9, 10],\n",
        "              [11, 12]])\n",
        "\n",
        "print(\"Matrix A:\")\n",
        "print(A)\n",
        "print(\"\\nMatrix B:\")\n",
        "print(B)\n",
        "\n",
        "# Perform matrix multiplication using the @ operator (preferred for modern NumPy)\n",
        "# The result will be a 2x2 matrix\n",
        "C = A @ B\n",
        "\n",
        "print(\"\\nResult of A @ B (Matrix Multiplication):\")\n",
        "print(C)\n",
        "\n",
        "# Alternatively, you can use the np.dot() function\n",
        "D = np.dot(A, B)\n",
        "\n",
        "print(\"\\nResult of np.dot(A, B):\")\n",
        "print(D)"
      ],
      "metadata": {
        "colab": {
          "base_uri": "https://localhost:8080/"
        },
        "id": "dkDN1XydBZlq",
        "outputId": "bd44096b-3302-48b6-d911-52a512f3f7a1"
      },
      "execution_count": null,
      "outputs": [
        {
          "output_type": "stream",
          "name": "stdout",
          "text": [
            "Matrix A:\n",
            "[[1 2 3]\n",
            " [4 5 6]]\n",
            "\n",
            "Matrix B:\n",
            "[[ 7  8]\n",
            " [ 9 10]\n",
            " [11 12]]\n",
            "\n",
            "Result of A @ B (Matrix Multiplication):\n",
            "[[ 58  64]\n",
            " [139 154]]\n",
            "\n",
            "Result of np.dot(A, B):\n",
            "[[ 58  64]\n",
            " [139 154]]\n"
          ]
        }
      ]
    },
    {
      "cell_type": "markdown",
      "source": [
        "Q.12. Use Pandas to load a CSV file and display its first 5 rows."
      ],
      "metadata": {
        "id": "QR1cxxB9BzGw"
      }
    },
    {
      "cell_type": "code",
      "source": [
        "import pandas as pd\n",
        "import io\n",
        "\n",
        "# Create some sample data as a string to simulate a CSV file\n",
        "csv_data = \"\"\"Name,Age,City,Salary\n",
        "Alice,30,New York,75000\n",
        "Bob,25,Los Angeles,60000\n",
        "Charlie,35,Chicago,90000\n",
        "David,40,Houston,120000\n",
        "Eve,28,Phoenix,65000\n",
        "Frank,33,New York,85000\n",
        "\"\"\"\n",
        "\n",
        "# Use a string buffer to read the data as if it were a file\n",
        "csv_file_like = io.StringIO(csv_data)\n",
        "\n",
        "# Load the CSV data into a Pandas DataFrame\n",
        "df = pd.read_csv(csv_file_like)\n",
        "\n",
        "print(\"Full DataFrame:\")\n",
        "print(df)\n",
        "\n",
        "# Display the first 5 rows of the DataFrame\n",
        "print(\"\\nFirst 5 rows of the DataFrame:\")\n",
        "print(df.head())\n"
      ],
      "metadata": {
        "id": "ysytfh58B3_j",
        "colab": {
          "base_uri": "https://localhost:8080/"
        },
        "outputId": "7ee46991-76b9-4aae-b9b9-d69dad572887"
      },
      "execution_count": 2,
      "outputs": [
        {
          "output_type": "stream",
          "name": "stdout",
          "text": [
            "Full DataFrame:\n",
            "      Name  Age         City  Salary\n",
            "0    Alice   30     New York   75000\n",
            "1      Bob   25  Los Angeles   60000\n",
            "2  Charlie   35      Chicago   90000\n",
            "3    David   40      Houston  120000\n",
            "4      Eve   28      Phoenix   65000\n",
            "5    Frank   33     New York   85000\n",
            "\n",
            "First 5 rows of the DataFrame:\n",
            "      Name  Age         City  Salary\n",
            "0    Alice   30     New York   75000\n",
            "1      Bob   25  Los Angeles   60000\n",
            "2  Charlie   35      Chicago   90000\n",
            "3    David   40      Houston  120000\n",
            "4      Eve   28      Phoenix   65000\n"
          ]
        }
      ]
    },
    {
      "cell_type": "markdown",
      "source": [
        "Q.13. Create a 3D scatter plot using Plotly."
      ],
      "metadata": {
        "id": "P87eW7A2cjVE"
      }
    },
    {
      "cell_type": "code",
      "source": [
        "import plotly.express as px\n",
        "import numpy as np\n",
        "\n",
        "# Generate some sample 3D data\n",
        "np.random.seed(42)\n",
        "num_points = 50\n",
        "x_data = np.random.randn(num_points)\n",
        "y_data = np.random.randn(num_points)\n",
        "z_data = np.random.randn(num_points)\n",
        "\n",
        "# Create the 3D scatter plot\n",
        "fig = px.scatter_3d(\n",
        "    x=x_data,\n",
        "    y=y_data,\n",
        "    z=z_data,\n",
        "    title='Random 3D Scatter Plot',\n",
        "    labels={'x': 'X-Axis', 'y': 'Y-Axis', 'z': 'Z-Axis'},\n",
        "    color=z_data,  # Color the points based on the z-axis value\n",
        ")\n",
        "\n",
        "# Customize the layout\n",
        "fig.update_layout(\n",
        "    scene=dict(\n",
        "        xaxis_title='X-Axis Label',\n",
        "        yaxis_title='Y-Axis Label',\n",
        "        zaxis_title='Z-Axis Label'\n",
        "    )\n",
        ")\n",
        "\n",
        "# Show the plot\n",
        "fig.show()"
      ],
      "metadata": {
        "colab": {
          "base_uri": "https://localhost:8080/",
          "height": 542
        },
        "id": "D1026_uzdzPg",
        "outputId": "904b01c3-afbc-4ac6-b0c9-a9877d1f012e"
      },
      "execution_count": 3,
      "outputs": [
        {
          "output_type": "display_data",
          "data": {
            "text/html": [
              "<html>\n",
              "<head><meta charset=\"utf-8\" /></head>\n",
              "<body>\n",
              "    <div>            <script src=\"https://cdnjs.cloudflare.com/ajax/libs/mathjax/2.7.5/MathJax.js?config=TeX-AMS-MML_SVG\"></script><script type=\"text/javascript\">if (window.MathJax && window.MathJax.Hub && window.MathJax.Hub.Config) {window.MathJax.Hub.Config({SVG: {font: \"STIX-Web\"}});}</script>                <script type=\"text/javascript\">window.PlotlyConfig = {MathJaxConfig: 'local'};</script>\n",
              "        <script charset=\"utf-8\" src=\"https://cdn.plot.ly/plotly-2.35.2.min.js\"></script>                <div id=\"b1b1976c-221d-4598-9330-49cb7a0ec655\" class=\"plotly-graph-div\" style=\"height:525px; width:100%;\"></div>            <script type=\"text/javascript\">                                    window.PLOTLYENV=window.PLOTLYENV || {};                                    if (document.getElementById(\"b1b1976c-221d-4598-9330-49cb7a0ec655\")) {                    Plotly.newPlot(                        \"b1b1976c-221d-4598-9330-49cb7a0ec655\",                        [{\"hovertemplate\":\"X-Axis=%{x}\\u003cbr\\u003eY-Axis=%{y}\\u003cbr\\u003eZ-Axis=%{z}\\u003cbr\\u003ecolor=%{marker.color}\\u003cextra\\u003e\\u003c\\u002fextra\\u003e\",\"legendgroup\":\"\",\"marker\":{\"color\":[-1.4153707420504142,-0.42064532276535904,-0.3427145165267695,-0.8022772692216189,-0.16128571166600914,0.4040508568145384,1.8861859012105302,0.17457781283183896,0.25755039072276437,-0.07444591576616721,-1.9187712152990415,-0.026513875449216878,0.06023020994102644,2.463242112485286,-0.19236096478112252,0.30154734233361247,-0.03471176970524331,-1.168678037619532,1.1428228145150205,0.7519330326867741,0.7910319470430469,-0.9093874547947389,1.4027943109360992,-1.4018510627922809,0.5868570938002703,2.1904556258099785,-0.9905363251306883,-0.5662977296027719,0.09965136508764122,-0.5034756541161992,-1.5506634310661327,0.06856297480602733,-1.0623037137261049,0.4735924306351816,-0.9194242342338032,1.5499344050175394,-0.7832532923362371,-0.3220615162056756,0.8135172173696698,-1.2308643164339552,0.22745993460412942,1.307142754282428,-1.6074832345612275,0.1846338585323042,0.25988279424842353,0.7818228717773104,-1.236950710878082,-1.3204566130842763,0.5219415656168976,0.29698467323318606],\"coloraxis\":\"coloraxis\",\"symbol\":\"circle\"},\"mode\":\"markers\",\"name\":\"\",\"scene\":\"scene\",\"showlegend\":false,\"x\":[0.4967141530112327,-0.13826430117118466,0.6476885381006925,1.5230298564080254,-0.23415337472333597,-0.23413695694918055,1.5792128155073915,0.7674347291529088,-0.4694743859349521,0.5425600435859647,-0.46341769281246226,-0.46572975357025687,0.24196227156603412,-1.913280244657798,-1.7249178325130328,-0.5622875292409727,-1.0128311203344238,0.3142473325952739,-0.9080240755212109,-1.4123037013352915,1.465648768921554,-0.22577630048653566,0.06752820468792384,-1.4247481862134568,-0.5443827245251827,0.11092258970986608,-1.1509935774223028,0.37569801834567196,-0.600638689918805,-0.2916937497932768,-0.6017066122293969,1.8522781845089378,-0.013497224737933921,-1.0577109289559004,0.822544912103189,-1.2208436499710222,0.2088635950047554,-1.9596701238797756,-1.3281860488984305,0.19686123586912352,0.7384665799954104,0.1713682811899705,-0.11564828238824053,-0.3011036955892888,-1.4785219903674274,-0.7198442083947086,-0.4606387709597875,1.0571222262189157,0.3436182895684614,-1.763040155362734],\"y\":[0.324083969394795,-0.38508228041631654,-0.6769220003059587,0.6116762888408679,1.030999522495951,0.9312801191161986,-0.8392175232226385,-0.3092123758512146,0.33126343140356396,0.9755451271223592,-0.47917423784528995,-0.18565897666381712,-1.1063349740060282,-1.1962066240806708,0.812525822394198,1.356240028570823,-0.07201012158033385,1.0035328978920242,0.36163602504763415,-0.6451197546051243,0.36139560550841393,1.5380365664659692,-0.03582603910995154,1.5646436558140062,-2.6197451040897444,0.8219025043752238,0.08704706823817122,-0.29900735046586746,0.0917607765355023,-1.9875689146008928,-0.21967188783751193,0.3571125715117464,1.477894044741516,-0.5182702182736474,-0.8084936028931876,-0.5017570435845365,0.9154021177020741,0.32875110965968446,-0.5297602037670388,0.5132674331133561,0.09707754934804039,0.9686449905328892,-0.7020530938773524,-0.3276621465977682,-0.39210815313215763,-1.4635149481321186,0.29612027706457605,0.26105527217988933,0.00511345664246089,-0.23458713337514692],\"z\":[-1.4153707420504142,-0.42064532276535904,-0.3427145165267695,-0.8022772692216189,-0.16128571166600914,0.4040508568145384,1.8861859012105302,0.17457781283183896,0.25755039072276437,-0.07444591576616721,-1.9187712152990415,-0.026513875449216878,0.06023020994102644,2.463242112485286,-0.19236096478112252,0.30154734233361247,-0.03471176970524331,-1.168678037619532,1.1428228145150205,0.7519330326867741,0.7910319470430469,-0.9093874547947389,1.4027943109360992,-1.4018510627922809,0.5868570938002703,2.1904556258099785,-0.9905363251306883,-0.5662977296027719,0.09965136508764122,-0.5034756541161992,-1.5506634310661327,0.06856297480602733,-1.0623037137261049,0.4735924306351816,-0.9194242342338032,1.5499344050175394,-0.7832532923362371,-0.3220615162056756,0.8135172173696698,-1.2308643164339552,0.22745993460412942,1.307142754282428,-1.6074832345612275,0.1846338585323042,0.25988279424842353,0.7818228717773104,-1.236950710878082,-1.3204566130842763,0.5219415656168976,0.29698467323318606],\"type\":\"scatter3d\"}],                        {\"template\":{\"data\":{\"histogram2dcontour\":[{\"type\":\"histogram2dcontour\",\"colorbar\":{\"outlinewidth\":0,\"ticks\":\"\"},\"colorscale\":[[0.0,\"#0d0887\"],[0.1111111111111111,\"#46039f\"],[0.2222222222222222,\"#7201a8\"],[0.3333333333333333,\"#9c179e\"],[0.4444444444444444,\"#bd3786\"],[0.5555555555555556,\"#d8576b\"],[0.6666666666666666,\"#ed7953\"],[0.7777777777777778,\"#fb9f3a\"],[0.8888888888888888,\"#fdca26\"],[1.0,\"#f0f921\"]]}],\"choropleth\":[{\"type\":\"choropleth\",\"colorbar\":{\"outlinewidth\":0,\"ticks\":\"\"}}],\"histogram2d\":[{\"type\":\"histogram2d\",\"colorbar\":{\"outlinewidth\":0,\"ticks\":\"\"},\"colorscale\":[[0.0,\"#0d0887\"],[0.1111111111111111,\"#46039f\"],[0.2222222222222222,\"#7201a8\"],[0.3333333333333333,\"#9c179e\"],[0.4444444444444444,\"#bd3786\"],[0.5555555555555556,\"#d8576b\"],[0.6666666666666666,\"#ed7953\"],[0.7777777777777778,\"#fb9f3a\"],[0.8888888888888888,\"#fdca26\"],[1.0,\"#f0f921\"]]}],\"heatmap\":[{\"type\":\"heatmap\",\"colorbar\":{\"outlinewidth\":0,\"ticks\":\"\"},\"colorscale\":[[0.0,\"#0d0887\"],[0.1111111111111111,\"#46039f\"],[0.2222222222222222,\"#7201a8\"],[0.3333333333333333,\"#9c179e\"],[0.4444444444444444,\"#bd3786\"],[0.5555555555555556,\"#d8576b\"],[0.6666666666666666,\"#ed7953\"],[0.7777777777777778,\"#fb9f3a\"],[0.8888888888888888,\"#fdca26\"],[1.0,\"#f0f921\"]]}],\"heatmapgl\":[{\"type\":\"heatmapgl\",\"colorbar\":{\"outlinewidth\":0,\"ticks\":\"\"},\"colorscale\":[[0.0,\"#0d0887\"],[0.1111111111111111,\"#46039f\"],[0.2222222222222222,\"#7201a8\"],[0.3333333333333333,\"#9c179e\"],[0.4444444444444444,\"#bd3786\"],[0.5555555555555556,\"#d8576b\"],[0.6666666666666666,\"#ed7953\"],[0.7777777777777778,\"#fb9f3a\"],[0.8888888888888888,\"#fdca26\"],[1.0,\"#f0f921\"]]}],\"contourcarpet\":[{\"type\":\"contourcarpet\",\"colorbar\":{\"outlinewidth\":0,\"ticks\":\"\"}}],\"contour\":[{\"type\":\"contour\",\"colorbar\":{\"outlinewidth\":0,\"ticks\":\"\"},\"colorscale\":[[0.0,\"#0d0887\"],[0.1111111111111111,\"#46039f\"],[0.2222222222222222,\"#7201a8\"],[0.3333333333333333,\"#9c179e\"],[0.4444444444444444,\"#bd3786\"],[0.5555555555555556,\"#d8576b\"],[0.6666666666666666,\"#ed7953\"],[0.7777777777777778,\"#fb9f3a\"],[0.8888888888888888,\"#fdca26\"],[1.0,\"#f0f921\"]]}],\"surface\":[{\"type\":\"surface\",\"colorbar\":{\"outlinewidth\":0,\"ticks\":\"\"},\"colorscale\":[[0.0,\"#0d0887\"],[0.1111111111111111,\"#46039f\"],[0.2222222222222222,\"#7201a8\"],[0.3333333333333333,\"#9c179e\"],[0.4444444444444444,\"#bd3786\"],[0.5555555555555556,\"#d8576b\"],[0.6666666666666666,\"#ed7953\"],[0.7777777777777778,\"#fb9f3a\"],[0.8888888888888888,\"#fdca26\"],[1.0,\"#f0f921\"]]}],\"mesh3d\":[{\"type\":\"mesh3d\",\"colorbar\":{\"outlinewidth\":0,\"ticks\":\"\"}}],\"scatter\":[{\"fillpattern\":{\"fillmode\":\"overlay\",\"size\":10,\"solidity\":0.2},\"type\":\"scatter\"}],\"parcoords\":[{\"type\":\"parcoords\",\"line\":{\"colorbar\":{\"outlinewidth\":0,\"ticks\":\"\"}}}],\"scatterpolargl\":[{\"type\":\"scatterpolargl\",\"marker\":{\"colorbar\":{\"outlinewidth\":0,\"ticks\":\"\"}}}],\"bar\":[{\"error_x\":{\"color\":\"#2a3f5f\"},\"error_y\":{\"color\":\"#2a3f5f\"},\"marker\":{\"line\":{\"color\":\"#E5ECF6\",\"width\":0.5},\"pattern\":{\"fillmode\":\"overlay\",\"size\":10,\"solidity\":0.2}},\"type\":\"bar\"}],\"scattergeo\":[{\"type\":\"scattergeo\",\"marker\":{\"colorbar\":{\"outlinewidth\":0,\"ticks\":\"\"}}}],\"scatterpolar\":[{\"type\":\"scatterpolar\",\"marker\":{\"colorbar\":{\"outlinewidth\":0,\"ticks\":\"\"}}}],\"histogram\":[{\"marker\":{\"pattern\":{\"fillmode\":\"overlay\",\"size\":10,\"solidity\":0.2}},\"type\":\"histogram\"}],\"scattergl\":[{\"type\":\"scattergl\",\"marker\":{\"colorbar\":{\"outlinewidth\":0,\"ticks\":\"\"}}}],\"scatter3d\":[{\"type\":\"scatter3d\",\"line\":{\"colorbar\":{\"outlinewidth\":0,\"ticks\":\"\"}},\"marker\":{\"colorbar\":{\"outlinewidth\":0,\"ticks\":\"\"}}}],\"scattermapbox\":[{\"type\":\"scattermapbox\",\"marker\":{\"colorbar\":{\"outlinewidth\":0,\"ticks\":\"\"}}}],\"scatterternary\":[{\"type\":\"scatterternary\",\"marker\":{\"colorbar\":{\"outlinewidth\":0,\"ticks\":\"\"}}}],\"scattercarpet\":[{\"type\":\"scattercarpet\",\"marker\":{\"colorbar\":{\"outlinewidth\":0,\"ticks\":\"\"}}}],\"carpet\":[{\"aaxis\":{\"endlinecolor\":\"#2a3f5f\",\"gridcolor\":\"white\",\"linecolor\":\"white\",\"minorgridcolor\":\"white\",\"startlinecolor\":\"#2a3f5f\"},\"baxis\":{\"endlinecolor\":\"#2a3f5f\",\"gridcolor\":\"white\",\"linecolor\":\"white\",\"minorgridcolor\":\"white\",\"startlinecolor\":\"#2a3f5f\"},\"type\":\"carpet\"}],\"table\":[{\"cells\":{\"fill\":{\"color\":\"#EBF0F8\"},\"line\":{\"color\":\"white\"}},\"header\":{\"fill\":{\"color\":\"#C8D4E3\"},\"line\":{\"color\":\"white\"}},\"type\":\"table\"}],\"barpolar\":[{\"marker\":{\"line\":{\"color\":\"#E5ECF6\",\"width\":0.5},\"pattern\":{\"fillmode\":\"overlay\",\"size\":10,\"solidity\":0.2}},\"type\":\"barpolar\"}],\"pie\":[{\"automargin\":true,\"type\":\"pie\"}]},\"layout\":{\"autotypenumbers\":\"strict\",\"colorway\":[\"#636efa\",\"#EF553B\",\"#00cc96\",\"#ab63fa\",\"#FFA15A\",\"#19d3f3\",\"#FF6692\",\"#B6E880\",\"#FF97FF\",\"#FECB52\"],\"font\":{\"color\":\"#2a3f5f\"},\"hovermode\":\"closest\",\"hoverlabel\":{\"align\":\"left\"},\"paper_bgcolor\":\"white\",\"plot_bgcolor\":\"#E5ECF6\",\"polar\":{\"bgcolor\":\"#E5ECF6\",\"angularaxis\":{\"gridcolor\":\"white\",\"linecolor\":\"white\",\"ticks\":\"\"},\"radialaxis\":{\"gridcolor\":\"white\",\"linecolor\":\"white\",\"ticks\":\"\"}},\"ternary\":{\"bgcolor\":\"#E5ECF6\",\"aaxis\":{\"gridcolor\":\"white\",\"linecolor\":\"white\",\"ticks\":\"\"},\"baxis\":{\"gridcolor\":\"white\",\"linecolor\":\"white\",\"ticks\":\"\"},\"caxis\":{\"gridcolor\":\"white\",\"linecolor\":\"white\",\"ticks\":\"\"}},\"coloraxis\":{\"colorbar\":{\"outlinewidth\":0,\"ticks\":\"\"}},\"colorscale\":{\"sequential\":[[0.0,\"#0d0887\"],[0.1111111111111111,\"#46039f\"],[0.2222222222222222,\"#7201a8\"],[0.3333333333333333,\"#9c179e\"],[0.4444444444444444,\"#bd3786\"],[0.5555555555555556,\"#d8576b\"],[0.6666666666666666,\"#ed7953\"],[0.7777777777777778,\"#fb9f3a\"],[0.8888888888888888,\"#fdca26\"],[1.0,\"#f0f921\"]],\"sequentialminus\":[[0.0,\"#0d0887\"],[0.1111111111111111,\"#46039f\"],[0.2222222222222222,\"#7201a8\"],[0.3333333333333333,\"#9c179e\"],[0.4444444444444444,\"#bd3786\"],[0.5555555555555556,\"#d8576b\"],[0.6666666666666666,\"#ed7953\"],[0.7777777777777778,\"#fb9f3a\"],[0.8888888888888888,\"#fdca26\"],[1.0,\"#f0f921\"]],\"diverging\":[[0,\"#8e0152\"],[0.1,\"#c51b7d\"],[0.2,\"#de77ae\"],[0.3,\"#f1b6da\"],[0.4,\"#fde0ef\"],[0.5,\"#f7f7f7\"],[0.6,\"#e6f5d0\"],[0.7,\"#b8e186\"],[0.8,\"#7fbc41\"],[0.9,\"#4d9221\"],[1,\"#276419\"]]},\"xaxis\":{\"gridcolor\":\"white\",\"linecolor\":\"white\",\"ticks\":\"\",\"title\":{\"standoff\":15},\"zerolinecolor\":\"white\",\"automargin\":true,\"zerolinewidth\":2},\"yaxis\":{\"gridcolor\":\"white\",\"linecolor\":\"white\",\"ticks\":\"\",\"title\":{\"standoff\":15},\"zerolinecolor\":\"white\",\"automargin\":true,\"zerolinewidth\":2},\"scene\":{\"xaxis\":{\"backgroundcolor\":\"#E5ECF6\",\"gridcolor\":\"white\",\"linecolor\":\"white\",\"showbackground\":true,\"ticks\":\"\",\"zerolinecolor\":\"white\",\"gridwidth\":2},\"yaxis\":{\"backgroundcolor\":\"#E5ECF6\",\"gridcolor\":\"white\",\"linecolor\":\"white\",\"showbackground\":true,\"ticks\":\"\",\"zerolinecolor\":\"white\",\"gridwidth\":2},\"zaxis\":{\"backgroundcolor\":\"#E5ECF6\",\"gridcolor\":\"white\",\"linecolor\":\"white\",\"showbackground\":true,\"ticks\":\"\",\"zerolinecolor\":\"white\",\"gridwidth\":2}},\"shapedefaults\":{\"line\":{\"color\":\"#2a3f5f\"}},\"annotationdefaults\":{\"arrowcolor\":\"#2a3f5f\",\"arrowhead\":0,\"arrowwidth\":1},\"geo\":{\"bgcolor\":\"white\",\"landcolor\":\"#E5ECF6\",\"subunitcolor\":\"white\",\"showland\":true,\"showlakes\":true,\"lakecolor\":\"white\"},\"title\":{\"x\":0.05},\"mapbox\":{\"style\":\"light\"}}},\"scene\":{\"domain\":{\"x\":[0.0,1.0],\"y\":[0.0,1.0]},\"xaxis\":{\"title\":{\"text\":\"X-Axis Label\"}},\"yaxis\":{\"title\":{\"text\":\"Y-Axis Label\"}},\"zaxis\":{\"title\":{\"text\":\"Z-Axis Label\"}}},\"coloraxis\":{\"colorbar\":{\"title\":{\"text\":\"color\"}},\"colorscale\":[[0.0,\"#0d0887\"],[0.1111111111111111,\"#46039f\"],[0.2222222222222222,\"#7201a8\"],[0.3333333333333333,\"#9c179e\"],[0.4444444444444444,\"#bd3786\"],[0.5555555555555556,\"#d8576b\"],[0.6666666666666666,\"#ed7953\"],[0.7777777777777778,\"#fb9f3a\"],[0.8888888888888888,\"#fdca26\"],[1.0,\"#f0f921\"]]},\"legend\":{\"tracegroupgap\":0},\"title\":{\"text\":\"Random 3D Scatter Plot\"}},                        {\"responsive\": true}                    ).then(function(){\n",
              "                            \n",
              "var gd = document.getElementById('b1b1976c-221d-4598-9330-49cb7a0ec655');\n",
              "var x = new MutationObserver(function (mutations, observer) {{\n",
              "        var display = window.getComputedStyle(gd).display;\n",
              "        if (!display || display === 'none') {{\n",
              "            console.log([gd, 'removed!']);\n",
              "            Plotly.purge(gd);\n",
              "            observer.disconnect();\n",
              "        }}\n",
              "}});\n",
              "\n",
              "// Listen for the removal of the full notebook cells\n",
              "var notebookContainer = gd.closest('#notebook-container');\n",
              "if (notebookContainer) {{\n",
              "    x.observe(notebookContainer, {childList: true});\n",
              "}}\n",
              "\n",
              "// Listen for the clearing of the current output cell\n",
              "var outputEl = gd.closest('.output');\n",
              "if (outputEl) {{\n",
              "    x.observe(outputEl, {childList: true});\n",
              "}}\n",
              "\n",
              "                        })                };                            </script>        </div>\n",
              "</body>\n",
              "</html>"
            ]
          },
          "metadata": {}
        }
      ]
    },
    {
      "cell_type": "markdown",
      "source": [
        "# **END**"
      ],
      "metadata": {
        "id": "uA0GnWQmeuP4"
      }
    }
  ]
}